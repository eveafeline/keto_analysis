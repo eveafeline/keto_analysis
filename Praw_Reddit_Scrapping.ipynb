{
 "cells": [
  {
   "cell_type": "code",
   "execution_count": 19,
   "metadata": {},
   "outputs": [],
   "source": [
    "import praw\n",
    "import datetime\n",
    "\n",
    "reddit = praw.Reddit(client_id='cKvaUs6_ZYJQDA',\n",
    "                     client_secret='eaUYU-KrGZA-unJYVTRRuaC52uY',\n",
    "                     user_agent='testscript by /u/eveafeline',\n",
    "                     username='eveafeline')"
   ]
  },
  {
   "cell_type": "code",
   "execution_count": 52,
   "metadata": {},
   "outputs": [
    {
     "name": "stdout",
     "output_type": "stream",
     "text": [
      "{'subreddit': 'Epilepsy', 'id': 'dones3a', 'time': '2017-10-20', 'author': 'flufffycow', 'content': 'Yeah, I had time and figured I would try the 12 steps thing but more like general rules.\\n\\nEdit: I figured someone might be interested.', 'permalink': '/r/Epilepsy/comments/77o37s/12_rules_of_epilepsy/dones3a'}\n",
      "{'subreddit': 'Epilepsy', 'id': 'donewjb', 'time': '2017-10-20', 'author': 'Crantastical', 'content': \"I think knowing ADA rights is a good part (maybe not reading the whole thing - it's really long - just the relevant parts are on the epilepsy foundation's site). \", 'permalink': '/r/Epilepsy/comments/77o37s/12_rules_of_epilepsy/donewjb'}\n",
      "{'subreddit': 'Epilepsy', 'id': 'donfltj', 'time': '2017-10-20', 'author': 'Oblivion9122', 'content': \"I'm a full time college student and I also work around 30 hours per week.  Don't feel guilty just be happy you have it under control for the most part. I lost my license and had to find rides to and from work and school, and two days before my suspension ended I had another one but I'm thankful they're under control this time (hopefully!).  Of course there is something wrong with us though and we have to live life a little differently than those without epilepsy, but all we can do is make the most of it.  So do whatever you need to do to make money as well as make sure that you're healthy and not having seizures.  Don't feel guilty for taking time off, especially if you're worried that the stress could cause one and you'd lose your license and not be able to drive your kids. You're doing the best you can :)\", 'permalink': '/r/Epilepsy/comments/77lr6w/anyone_else_feeling_guilty_of_not_being_able_to/donfltj'}\n",
      "{'subreddit': 'Epilepsy', 'id': 'dongi4r', 'time': '2017-10-20', 'author': 'mikay1a1a1a', 'content': 'Yes, my partner has TLE and for 6 months experienced sleep walking, etc before having a tonic clonic seizure which brought us the diagnosis ', 'permalink': '/r/Epilepsy/comments/7554x2/just_found_out_that_ive_been_having_seizures_for/dongi4r'}\n",
      "{'subreddit': 'Epilepsy', 'id': 'donh9n2', 'time': '2017-10-20', 'author': 'Statici', 'content': \"Yeah...that's why the coffee is 100% necessary :3\", 'permalink': '/r/Epilepsy/comments/77hq3b/anyone_on_lamotrigine/donh9n2'}\n",
      "{'subreddit': 'Epilepsy', 'id': 'donizfp', 'time': '2017-10-20', 'author': 'pandaeconomics', 'content': \"When I Google it, I just get results about cancer and medical research. Even when I googled that specific question, it wasn't entirely clear. I'd get things like, it's on the left side of the brain. Well yeah, but that's not a full explanation. :(\", 'permalink': '/r/Epilepsy/comments/77jr7z/what_side_of_the_head_is_the_left_frontal_lobe_on/donizfp'}\n"
     ]
    }
   ],
   "source": [
    "temp1 = []\n",
    "for i, comment in enumerate(reddit.subreddit('epilepsy').stream.comments()):\n",
    "    result = {'subreddit': comment.subreddit.display_name,\n",
    "              'id': comment.id,\n",
    "              'time': datetime.date.fromtimestamp(comment.created).isoformat(),\n",
    "              'author': comment.author.name, \n",
    "              'content': comment.body,\n",
    "              'permalink': comment.permalink()\n",
    "              }\n",
    "    print(result)\n",
    "    if i > 4:\n",
    "        break"
   ]
  },
  {
   "cell_type": "code",
   "execution_count": 6,
   "metadata": {},
   "outputs": [
    {
     "name": "stdout",
     "output_type": "stream",
     "text": [
      "dkwtdmc\n"
     ]
    }
   ],
   "source": [
    "submission = reddit.submission(id='dkwtdmc')\n",
    "print(submission)"
   ]
  },
  {
   "cell_type": "code",
   "execution_count": 38,
   "metadata": {},
   "outputs": [
    {
     "name": "stdout",
     "output_type": "stream",
     "text": [
      "{'author': 'brentoid', 'content': \"First, what's the deal with nuts? Are they OK? A handful a day? I am sticking to walnuts and Pecans, but am unable to find consistent nutritional information on them, walnuts especially. The bag I purchased says 3g carbs per serving and 3g fiber, so they supposedly have zero net carbs? No way. So if anyone knows the net carb info on a cup of walnut halves and a cup of pecan halves, please let me know. \\n\\nSecond, what about sugar alcohols? My favorite gum is dentine fire. It says on the packaging that there are two carbs per slice but that these are sugar alcohols (which a lot of foods marketed as low carb include the claim that these shouldn't be counted... So, should they be counted? And if so, as a full carb? \\n\\nLastly (for now), what supplements should I be taking? I've read mixed reviews on glycine. Does that help \\n? \\n\\nEdit: everything I'm finding so far says that sugar alcohols will make you crave more sugar, which isn't the case for me, but nothing says that they mess with ketosis.... Still trying to make sure that they don't. \", 'time': '2016-12-16'}\n",
      "{'author': 'josephdhughes82', 'content': '', 'time': '2016-12-25'}\n",
      "{'author': 'thehealthbloggers', 'content': '', 'time': '2016-12-26'}\n",
      "{'author': 'Prideepla', 'content': '', 'time': '2016-12-27'}\n",
      "{'author': 'tuss91', 'content': '', 'time': '2016-12-28'}\n",
      "{'author': 'Teresa_Sunshine', 'content': \"Hello There! So, I am a 5'10, 26y/o, 185lb woman. \\n\\nI have tried everything under the sun to lose weight and nothing has worked thus far. Today, I am starting the ketogenic diet. I did a grocery store run last night ($200 later....) and I am ready!\\n\\nCould any of you Keto-ers give me some advice on recipes, breakfast items, working out tips while dieting, and most importantly any advice or input on maximizing weight loss. I am ready for this challenge and I really need all the support I can get :)\\n\\nFeel free to inbox me as well\", 'time': '2016-12-28'}\n"
     ]
    }
   ],
   "source": [
    "temp = []\n",
    "for i, submission in enumerate(reddit.subreddit('ketogenic').stream.submissions()):\n",
    "    result = {'author': submission.author.name, 'content': submission.selftext, 'time': datetime.date.fromtimestamp(submission.created).isoformat()}\n",
    "    print(result)\n",
    "    temp.append(submission)\n",
    "    if i > 4:\n",
    "        break"
   ]
  },
  {
   "cell_type": "code",
   "execution_count": 39,
   "metadata": {},
   "outputs": [
    {
     "data": {
      "text/plain": [
       "['STR_FIELD',\n",
       " '__class__',\n",
       " '__delattr__',\n",
       " '__dict__',\n",
       " '__dir__',\n",
       " '__doc__',\n",
       " '__eq__',\n",
       " '__format__',\n",
       " '__ge__',\n",
       " '__getattr__',\n",
       " '__getattribute__',\n",
       " '__gt__',\n",
       " '__hash__',\n",
       " '__init__',\n",
       " '__init_subclass__',\n",
       " '__le__',\n",
       " '__lt__',\n",
       " '__module__',\n",
       " '__ne__',\n",
       " '__new__',\n",
       " '__reduce__',\n",
       " '__reduce_ex__',\n",
       " '__repr__',\n",
       " '__setattr__',\n",
       " '__sizeof__',\n",
       " '__str__',\n",
       " '__subclasshook__',\n",
       " '__weakref__',\n",
       " '_chunk',\n",
       " '_comments_by_id',\n",
       " '_fetch',\n",
       " '_fetched',\n",
       " '_flair',\n",
       " '_info_params',\n",
       " '_info_path',\n",
       " '_mod',\n",
       " '_reddit',\n",
       " '_reset_attributes',\n",
       " '_safely_add_arguments',\n",
       " '_vote',\n",
       " 'approved_at_utc',\n",
       " 'approved_by',\n",
       " 'archived',\n",
       " 'author',\n",
       " 'author_flair_css_class',\n",
       " 'author_flair_text',\n",
       " 'banned_at_utc',\n",
       " 'banned_by',\n",
       " 'brand_safe',\n",
       " 'can_gild',\n",
       " 'can_mod_post',\n",
       " 'clear_vote',\n",
       " 'clicked',\n",
       " 'comment_limit',\n",
       " 'comment_sort',\n",
       " 'comments',\n",
       " 'contest_mode',\n",
       " 'created',\n",
       " 'created_utc',\n",
       " 'crosspost',\n",
       " 'delete',\n",
       " 'disable_inbox_replies',\n",
       " 'distinguished',\n",
       " 'domain',\n",
       " 'downs',\n",
       " 'downvote',\n",
       " 'duplicates',\n",
       " 'edit',\n",
       " 'edited',\n",
       " 'enable_inbox_replies',\n",
       " 'flair',\n",
       " 'fullname',\n",
       " 'gild',\n",
       " 'gilded',\n",
       " 'hidden',\n",
       " 'hide',\n",
       " 'hide_score',\n",
       " 'id',\n",
       " 'id_from_url',\n",
       " 'is_crosspostable',\n",
       " 'is_reddit_media_domain',\n",
       " 'is_self',\n",
       " 'is_video',\n",
       " 'likes',\n",
       " 'link_flair_css_class',\n",
       " 'link_flair_text',\n",
       " 'locked',\n",
       " 'media',\n",
       " 'media_embed',\n",
       " 'mod',\n",
       " 'mod_reports',\n",
       " 'name',\n",
       " 'num_comments',\n",
       " 'num_crossposts',\n",
       " 'num_reports',\n",
       " 'over_18',\n",
       " 'parent_whitelist_status',\n",
       " 'parse',\n",
       " 'permalink',\n",
       " 'pinned',\n",
       " 'quarantine',\n",
       " 'removal_reason',\n",
       " 'reply',\n",
       " 'report',\n",
       " 'report_reasons',\n",
       " 'save',\n",
       " 'saved',\n",
       " 'score',\n",
       " 'secure_media',\n",
       " 'secure_media_embed',\n",
       " 'selftext',\n",
       " 'selftext_html',\n",
       " 'shortlink',\n",
       " 'spoiler',\n",
       " 'stickied',\n",
       " 'subreddit',\n",
       " 'subreddit_id',\n",
       " 'subreddit_name_prefixed',\n",
       " 'subreddit_type',\n",
       " 'suggested_sort',\n",
       " 'thumbnail',\n",
       " 'thumbnail_height',\n",
       " 'thumbnail_width',\n",
       " 'title',\n",
       " 'unhide',\n",
       " 'unsave',\n",
       " 'ups',\n",
       " 'upvote',\n",
       " 'url',\n",
       " 'user_reports',\n",
       " 'view_count',\n",
       " 'visited',\n",
       " 'whitelist_status']"
      ]
     },
     "execution_count": 39,
     "metadata": {},
     "output_type": "execute_result"
    }
   ],
   "source": [
    "sub = temp[0]\n",
    "dir(sub)"
   ]
  },
  {
   "cell_type": "code",
   "execution_count": 37,
   "metadata": {},
   "outputs": [
    {
     "data": {
      "text/plain": [
       "['author', 'content', 'time']"
      ]
     },
     "execution_count": 37,
     "metadata": {},
     "output_type": "execute_result"
    }
   ],
   "source": [
    "list(sub.keys())"
   ]
  }
 ],
 "metadata": {
  "kernelspec": {
   "display_name": "Python 3",
   "language": "python",
   "name": "python3"
  },
  "language_info": {
   "codemirror_mode": {
    "name": "ipython",
    "version": 3
   },
   "file_extension": ".py",
   "mimetype": "text/x-python",
   "name": "python",
   "nbconvert_exporter": "python",
   "pygments_lexer": "ipython3",
   "version": "3.6.2"
  }
 },
 "nbformat": 4,
 "nbformat_minor": 2
}
