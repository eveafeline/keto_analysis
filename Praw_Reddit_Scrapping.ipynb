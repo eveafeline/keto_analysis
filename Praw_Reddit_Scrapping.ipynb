{
 "cells": [
  {
   "cell_type": "code",
   "execution_count": 3,
   "metadata": {
    "collapsed": true
   },
   "outputs": [],
   "source": [
    "import praw\n",
    "import datetime\n",
    "\n",
    "reddit = praw.Reddit(client_id='cKvaUs6_ZYJQDA',\n",
    "                     client_secret='eaUYU-KrGZA-unJYVTRRuaC52uY',\n",
    "                     user_agent='testscript by /u/eveafeline',\n",
    "                     username='eveafeline')"
   ]
  },
  {
   "cell_type": "code",
   "execution_count": 7,
   "metadata": {},
   "outputs": [
    {
     "name": "stdout",
     "output_type": "stream",
     "text": [
      "{'subreddit': 'Epilepsy', 'id': 'doobkyg', 'time': '2017-10-21', 'author': 'gigabyte898', 'content': 'Epilepsy is by definition “more than one unprovoked seizure”. Technically if you’ve had two episodes that *are seizures* you have epilepsy. The hard part is determining if they are seizures. It’s a bit easier if you have grand mals, but altered consciousness and zoning out can be a lot of things. For example, my girlfriend frequently gets spells of dizziness and headrushes. Those can possibly be seizures, but in her case they are most likely related to a blood issue. Similarly, you may be having seizures but they may be caused by something else. That’s where the “unprovoked” part of the definition comes in. Someone who is diabetic and has seizures doesn’t have epilepsy because there is another diagnosed cause for it. \\n\\nAs for the question of “what’s next”, it sounds like you’ve been through most of the first steps in getting a diagnoses. Past a standard EEG, they can do what’s called an Ambulatory and an inpatient EEG. \\n\\nAmbulatory EEGs involve you having the electrodes on your head for three to five days and carrying the equipment with you. In my case it was a little box that was on a sling around my shoulder kinda like a purse. Simple 30 minute EEGs often come back normal because seizures don’t have a schedule, they just happen whenever. The Ambulatory EEG allows the neurologist to have a much larger sample size. \\n\\nInpatient EEGs involve you staying in a hospital for five to seven days under the care of nurses and doctors. You will be constantly monitored with an EEG as well as a 24/7 video feed. In an inpatient EEG they often try to induce a seizure if you aren’t having any. This procedure usually comes after epilepsy diagnoses when they are trying to figure out more specifics though so I doubt they’d jump there right out of the gate. \\n\\nI don’t think they would put you on meds without a more concrete idea of what’s going on. Anti Epilepsy Drugs (AEDs) often have pretty noticeable side effects in terms of mood and behavior. Some of them are also even used to treat conditions such as bi-polar and depression. If you have epilepsy they work great because they often target specific areas of the brain, however if you don’t they can cause behavioral issues. Despite this, they are regarded as safe. If you are put on them without having epilepsy not a whole lot will change with a starting dosage so don’t worry about that. They’ll just take you off them and try something else\\n\\nYou mentioned you were seeing a specialist, so they will be running their own tests and looking over results from previous tests. At this point, it’s their call on how to proceed. If they have enough reason to believe you are epileptic they will put you on drugs, but slowly. They’ll start with a small dose and ease you into it. It’s very important to call them and tell them if you have mood changes, worsening symptoms, or a reduction in your symptoms. Any sort of drugs that are for mental or neurological issues are kinda trial and error with each person so it’s important the doctor knows what works and what doesn’t. I went through two different kinds of meds before we found one that played nice. That’s why you start on smaller doses. Keeping a diary of when they happen and what you were doing before they happen would be a big help for the neurologist, they may ask you to start doing that when you see them so you might as well get a head start. \\n\\nIn any case, just know you are in the care of people who studied this stuff for years and years. It is their duty as doctors to care for you and they will do everything in their power to do so. You and your doctors are in this together, they’ll take care of you\\n\\n**Obligatory disclaimer I attach to the things I post here:** I am not a doctor, nor am I your doctor. I have no formal medical training. Any tips or advice I give are based off personal experience and things I’ve learned by talking to my doctor as well as others with epilepsy. As such, this should only be considered anecdotal advice. If you have any suspicion you have epilepsy or you have worsening symptoms, talk to your doctor. Only they can give a diagnosis. If you need immediate medical care, call 911 or whatever the equivalent is in your country. '}\n",
      "{'subreddit': 'Epilepsy', 'id': 'dood3uv', 'time': '2017-10-21', 'author': 'sobriquetstain', 'content': 'no worries- thanks anyway! :) '}\n",
      "{'subreddit': 'Epilepsy', 'id': 'dooiqg5', 'time': '2017-10-21', 'author': 'undomesticating', 'content': \"Please try not to freak out, for this is it my experience. \\n\\nI have cancer in my right temporal lobe. I have experienced many of the things you have described. However, I have really only noticed my symptoms since my surgery last year. I have spent a good amount of time reflecting back on the time before diagnosis and I can't remember ever having symptoms. Plus, even with slow growing tumors they tend to make problems a lot sooner than almost 20 years. My Dr's guess is that it took possibly 3 or 4 years for mine too get as big as it did (maybe more maybe not). \\n\\nKeep rested and hydrated until you can see your doc. And don't drink alcohol. Good luck. \"}\n",
      "{'subreddit': 'Epilepsy', 'id': 'doolq6u', 'time': '2017-10-21', 'author': 'wanderwonderwoman', 'content': \"The cold could correlate to an increase in episodes. The medications for colds (tylenol, antihistamines, antibiotics, etc) tend to lower seizure thresholds immensely. Not just the mediation itself, it could also be due to stress, not getting enough proper sleep (REM not just sleeping), breathing but not getting proper levels of oxygen which affects your brain more than other people, lots of reasons for that so don't panic yet. I know I'm just getting over a horrible version of cold that turned into bronchitis, and I had to up my dosage of my Vimpat because my simple episodes got out of wack where I couldn't control it anymore. \\n\\nI'm not sure exactly how your seizures work specifically but mine are similar to yours so hopefully my version helps you a little? I have left temporal lobe epilepsy. I have simple, complex partials and grand mal seizures. Had it when I was a kid, went away through puberty, and it came back when I was 24-ish full force. My seizures progress in levels of episodes. It starts with a simple seizure, I get dajavu (like you) I get tingling and numbness only on the right side of my body and nausea and dizziness and just a feeling of being scared. I can still communicate, it lasts for 30 seconds to 1 minute a most. And I don't have problems recovering from it now that I'm on Vimpat. If my simple episodes keep happening and don't stop, it then progresses to a complex partial. The main difference is my complex partial, I don't remember it, and I forget how to speak English (which is my second language), and I forget people's names, my words are jumbled and I just sound like I'm drunk basically. I just have like a blank time/space during my episode that I don't recover it just feels like I've spaced out for a time period. If I keep having complex partials, then it progresses to a grand mal seizure. At that point, the usual embarrassing seizure stuff happens. \\n\\nYours sounds like you were just having a lower seizure threshold day and the 7 episodes, I'm surprised you didn't progress into a complex partial. Simple episodes only affect one area of the brain. Complex partials is when that simple expands to multiple areas of the brain (which is when my language gets involved and speech patterns). And then grand mal seizures basically is all the neurons in your brain misfiring at the same time. At least that's how my neurologist explained it to me, which is why he emphasizes how important it is that I don't let it progress farther than a simple episode. \\n\\nDon't immediately jump on the brain tumor wagon. I know I did when I couldn't control any of them. But it's been almost 2 years and I am now almost seizure free (except now with some simple episodes during my cold). I haven't had a complex partial in a year (this october is the anniversary) and no grand mal in 2 years. \\n\\nJust be honest with your doctor, the more I understood how my episodes work, the more in control I felt about this disorder. I can't control it all, but I can let it not control me. Hope this helps.\\n\\n*(edited for grammar as best as I could)\"}\n",
      "{'subreddit': 'Epilepsy', 'id': 'doorgfh', 'time': '2017-10-21', 'author': 'Ten_bucks_best_offer', 'content': 'Across the pond really still uses the term \"fit\", even to the point of using it in news articles? I personally feel the term is very degrading to epileptics or anyone that has any type of seizure. It\\'s a bit of a downplay and makes it easier to ignore and/or joke about the situation.\\n\\nTo me it\\'s the same as the times when using \"moron\" as a go to term among psychologists when speaking of those with a lower IQ or mental disability was perfectly valid.'}\n",
      "{'subreddit': 'Epilepsy', 'id': 'doos79s', 'time': '2017-10-21', 'author': 'endepilepsynow', 'content': 'Your not alone [look here...](http://www.coping-with-epilepsy.com/forums/f23/seizure-v-fit-11436/) No comment about little Joshua? '}\n"
     ]
    }
   ],
   "source": [
    "temp1 = []\n",
    "for i, comment in enumerate(reddit.subreddit('epilepsy').stream.comments()):\n",
    "    result = {'subreddit': comment.subreddit.display_name,\n",
    "              'id': comment.id,\n",
    "              'time': datetime.date.fromtimestamp(comment.created).isoformat(),\n",
    "              'author': comment.author.name, \n",
    "              'content': comment.body\n",
    "              }\n",
    "    print(result)\n",
    "    if i > 4:\n",
    "        break"
   ]
  },
  {
   "cell_type": "code",
   "execution_count": 5,
   "metadata": {},
   "outputs": [
    {
     "name": "stdout",
     "output_type": "stream",
     "text": [
      "dkwtdmc\n"
     ]
    }
   ],
   "source": [
    "submission = reddit.submission(id='dkwtdmc')\n",
    "print(submission)"
   ]
  },
  {
   "cell_type": "code",
   "execution_count": 6,
   "metadata": {},
   "outputs": [
    {
     "name": "stdout",
     "output_type": "stream",
     "text": [
      "{'author': 'josephdhughes82', 'content': '', 'time': '2016-12-25'}\n",
      "{'author': 'thehealthbloggers', 'content': '', 'time': '2016-12-26'}\n",
      "{'author': 'Prideepla', 'content': '', 'time': '2016-12-27'}\n",
      "{'author': 'tuss91', 'content': '', 'time': '2016-12-28'}\n",
      "{'author': 'Teresa_Sunshine', 'content': \"Hello There! So, I am a 5'10, 26y/o, 185lb woman. \\n\\nI have tried everything under the sun to lose weight and nothing has worked thus far. Today, I am starting the ketogenic diet. I did a grocery store run last night ($200 later....) and I am ready!\\n\\nCould any of you Keto-ers give me some advice on recipes, breakfast items, working out tips while dieting, and most importantly any advice or input on maximizing weight loss. I am ready for this challenge and I really need all the support I can get :)\\n\\nFeel free to inbox me as well\", 'time': '2016-12-28'}\n",
      "{'author': 'Hooficane', 'content': \"I'm a former power lifter and have started a keto diet to try and drop to a healthier weight. At the gym now I focus on higher reps with lower weight instead of lifting heavy all the time. Because of the diet, I had to cut down my protien intake from 290g per day to abouthe 199. Between the high protein intake and and eating 2-3 bananas a day, I never felt sore. Now with having to cut bananas out and alost 100g less protein per day, I feel miserable. I'm still sore from my chest and tris workout Monday! What do you guys do go combat the sorenessame from working out?\", 'time': '2017-01-07'}\n"
     ]
    }
   ],
   "source": [
    "temp = []\n",
    "for i, submission in enumerate(reddit.subreddit('ketogenic').stream.submissions()):\n",
    "    result = {'author': submission.author.name, 'content': submission.selftext, 'time': datetime.date.fromtimestamp(submission.created).isoformat()}\n",
    "    print(result)\n",
    "    temp.append(submission)\n",
    "    if i > 4:\n",
    "        break"
   ]
  },
  {
   "cell_type": "code",
   "execution_count": null,
   "metadata": {},
   "outputs": [],
   "source": [
    "sub = temp[0]\n",
    "dir(sub)"
   ]
  },
  {
   "cell_type": "code",
   "execution_count": null,
   "metadata": {},
   "outputs": [],
   "source": [
    "list(sub.keys())"
   ]
  }
 ],
 "metadata": {
  "kernelspec": {
   "display_name": "Python 3",
   "language": "python",
   "name": "python3"
  },
  "language_info": {
   "codemirror_mode": {
    "name": "ipython",
    "version": 3
   },
   "file_extension": ".py",
   "mimetype": "text/x-python",
   "name": "python",
   "nbconvert_exporter": "python",
   "pygments_lexer": "ipython3",
   "version": "3.6.2"
  }
 },
 "nbformat": 4,
 "nbformat_minor": 2
}
